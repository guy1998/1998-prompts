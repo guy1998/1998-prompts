{
  "cells": [
    {
      "cell_type": "code",
      "execution_count": null,
      "metadata": {
        "id": "h1VN_ANCb-tu"
      },
      "outputs": [],
      "source": [
        "!pip install transformers accelerate peft bitsandbytes"
      ]
    },
    {
      "cell_type": "code",
      "execution_count": null,
      "metadata": {
        "id": "7WX5JlOSb_ul"
      },
      "outputs": [],
      "source": [
        "from transformers import AutoModelForCausalLM, AutoTokenizer, BitsAndBytesConfig\n",
        "from peft import PeftModel\n",
        "from huggingface_hub import login\n",
        "import torch\n",
        "import os\n",
        "\n",
        "hf_token = os.environ.get(\"HF_TOKEN\")\n",
        "\n",
        "login(hf_token)\n",
        "\n",
        "tokenizer = AutoTokenizer.from_pretrained(\"./lora_configs\")\n",
        "\n",
        "bnb_config = BitsAndBytesConfig(\n",
        "    load_in_4bit=True,  # Change to False for 8-bit\n",
        "    bnb_4bit_quant_type=\"nf4\",  # or \"fp4\"\n",
        "    bnb_4bit_use_double_quant=True,\n",
        "    bnb_4bit_compute_dtype=torch.float16\n",
        ")\n",
        "\n",
        "base_model = AutoModelForCausalLM.from_pretrained(\n",
        "    \"meta-llama/Meta-Llama-3-8B-Instruct\",\n",
        "    quantization_config=bnb_config,\n",
        "    device_map=\"auto\",  # spreads across available devices\n",
        "    trust_remote_code=True\n",
        ")\n",
        "\n",
        "model = PeftModel.from_pretrained(base_model, \"./lora_configs\")\n",
        "\n",
        "print(\"Prompt Enhancer CLI — type 'exit' to quit\\n\")\n",
        "while True:\n",
        "    user_input = input(\"Messy prompt: \")\n",
        "    if user_input.lower() == \"exit\":\n",
        "        break\n",
        "\n",
        "    prompt = f\"Enhance this prompt: {user_input}\"\n",
        "    inputs = tokenizer(prompt, return_tensors=\"pt\").to(model.device)\n",
        "    outputs = model.generate(**inputs, max_new_tokens=500)\n",
        "    enhanced = tokenizer.decode(outputs[0], skip_special_tokens=True)\n",
        "\n",
        "    print(\"\\n✨ Enhanced prompt:\\n\", enhanced, \"\\n\")\n"
      ]
    }
  ],
  "metadata": {
    "accelerator": "GPU",
    "colab": {
      "gpuType": "T4",
      "provenance": []
    },
    "kernelspec": {
      "display_name": "Python 3",
      "name": "python3"
    },
    "language_info": {
      "name": "python"
    }
  },
  "nbformat": 4,
  "nbformat_minor": 0
}
